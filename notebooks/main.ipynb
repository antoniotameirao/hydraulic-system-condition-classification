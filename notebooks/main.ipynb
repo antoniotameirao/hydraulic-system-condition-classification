{
 "cells": [
  {
   "cell_type": "markdown",
   "metadata": {},
   "source": [
    "# Importing Libs"
   ]
  },
  {
   "cell_type": "code",
   "execution_count": 107,
   "metadata": {},
   "outputs": [],
   "source": [
    "import pandas as pd\n",
    "import numpy as np\n",
    "import matplotlib.pyplot as plt\n",
    "import seaborn as sns\n",
    "import os"
   ]
  },
  {
   "cell_type": "markdown",
   "metadata": {},
   "source": [
    "# Reading data"
   ]
  },
  {
   "cell_type": "code",
   "execution_count": 18,
   "metadata": {},
   "outputs": [],
   "source": [
    "files_list = os.listdir('../data')\n",
    "target_file_name = 'profile.txt'\n",
    "sensors_list = [file.split('.txt')[0] for file in files_list if file != target_file_name]"
   ]
  },
  {
   "cell_type": "code",
   "execution_count": 72,
   "metadata": {},
   "outputs": [],
   "source": [
    "target = pd.read_csv(f'../data/{target_file_name}', delimiter='\\t', header=None)[3] # 3 is reference to the Hydraulic accumulator"
   ]
  },
  {
   "cell_type": "code",
   "execution_count": 33,
   "metadata": {},
   "outputs": [],
   "source": [
    "experiment_time_seconds = 60\n",
    "sensors_data_dict_freq = {}\n",
    "sensors_names_dict_freq = {}\n",
    "for sensor in sensors_list:\n",
    "    df_sensor = pd.read_csv(f'../data/{sensor}.txt', delimiter='\\t', header=None)\n",
    "    n_samples = df_sensor.shape[1]\n",
    "    freq = n_samples/experiment_time_seconds\n",
    "    if freq not in sensors_data_dict_freq:\n",
    "        sensors_data_dict_freq[freq]=df_sensor\n",
    "        sensors_names_dict_freq[freq]=[sensor]\n",
    "    else:\n",
    "        sensors_data_dict_freq[freq]=np.dstack((sensors_data_dict_freq[freq], df_sensor))\n",
    "        sensors_names_dict_freq[freq]+=[sensor]\n"
   ]
  },
  {
   "cell_type": "code",
   "execution_count": 40,
   "metadata": {},
   "outputs": [
    {
     "name": "stdout",
     "output_type": "stream",
     "text": [
      "There are 8 sensors with the frequency of 1 Hz\n",
      "There are 7 sensors with the frequency of 100 Hz\n",
      "There are 2 sensors with the frequency of 10 Hz\n"
     ]
    }
   ],
   "source": [
    "for freq, names_list in sensors_names_dict_freq.items():\n",
    "    n_sensors = len(names_list)\n",
    "    print(f'There are {n_sensors} sensors with the frequency of {int(freq)} Hz.')"
   ]
  },
  {
   "cell_type": "code",
   "execution_count": 34,
   "metadata": {},
   "outputs": [],
   "source": [
    "one_hz_data = sensors_data_dict_freq[1]\n",
    "one_hz_names = sensors_names_dict_freq[1]\n",
    "\n",
    "ten_hz_data = sensors_data_dict_freq[10]\n",
    "ten_hz_names = sensors_names_dict_freq[10]\n",
    "\n",
    "hund_hz_data = sensors_data_dict_freq[100]\n",
    "hund_hz_names = sensors_names_dict_freq[100]"
   ]
  },
  {
   "cell_type": "markdown",
   "metadata": {},
   "source": [
    "# Exploratory Data Analysis"
   ]
  },
  {
   "cell_type": "markdown",
   "metadata": {},
   "source": [
    "According to the documentation the representation of the target values is:\n",
    "\n",
    "- Hydraulic accumulator / bar: \\\n",
    "      - 130: optimal pressure (599 instances) \\\n",
    "      - 115: slightly reduced pressure (399 instances) \\\n",
    "      - 100: severely reduced pressure (399 instances) \\\n",
    "      - 90: close to total failure (808 instances)\n",
    "\n",
    "For easier interpretability I will assume:\n",
    "\n",
    "- Hydraulic accumulator / bar: \\\n",
    "      - 0: optimal pressure (599 instances) \\\n",
    "      - 1: slightly reduced pressure (399 instances) \\\n",
    "      - 2: severely reduced pressure (399 instances) \\\n",
    "      - 3: close to total failure (808 instances)"
   ]
  },
  {
   "cell_type": "code",
   "execution_count": 75,
   "metadata": {},
   "outputs": [],
   "source": [
    "rename_target = {\n",
    "    130:0,\n",
    "    115:1,\n",
    "    100:2,\n",
    "    90:3\n",
    "}\n",
    "target = target.apply(lambda x:rename_target[x])"
   ]
  },
  {
   "cell_type": "code",
   "execution_count": 116,
   "metadata": {},
   "outputs": [
    {
     "data": {
      "text/html": [
       "<div>\n",
       "<style scoped>\n",
       "    .dataframe tbody tr th:only-of-type {\n",
       "        vertical-align: middle;\n",
       "    }\n",
       "\n",
       "    .dataframe tbody tr th {\n",
       "        vertical-align: top;\n",
       "    }\n",
       "\n",
       "    .dataframe thead th {\n",
       "        text-align: right;\n",
       "    }\n",
       "</style>\n",
       "<table border=\"1\" class=\"dataframe\">\n",
       "  <thead>\n",
       "    <tr style=\"text-align: right;\">\n",
       "      <th></th>\n",
       "      <th>condition</th>\n",
       "      <th>count</th>\n",
       "    </tr>\n",
       "  </thead>\n",
       "  <tbody>\n",
       "    <tr>\n",
       "      <th>0</th>\n",
       "      <td>0</td>\n",
       "      <td>599</td>\n",
       "    </tr>\n",
       "    <tr>\n",
       "      <th>1</th>\n",
       "      <td>1</td>\n",
       "      <td>399</td>\n",
       "    </tr>\n",
       "    <tr>\n",
       "      <th>2</th>\n",
       "      <td>2</td>\n",
       "      <td>399</td>\n",
       "    </tr>\n",
       "    <tr>\n",
       "      <th>3</th>\n",
       "      <td>3</td>\n",
       "      <td>808</td>\n",
       "    </tr>\n",
       "  </tbody>\n",
       "</table>\n",
       "</div>"
      ],
      "text/plain": [
       "   condition  count\n",
       "0          0    599\n",
       "1          1    399\n",
       "2          2    399\n",
       "3          3    808"
      ]
     },
     "execution_count": 116,
     "metadata": {},
     "output_type": "execute_result"
    }
   ],
   "source": [
    "df_count = pd.DataFrame({'condition':target.value_counts().index, 'count':target.value_counts().values})\n",
    "df_count = df.sort_values(by='condition').reset_index(drop=True)\n",
    "df_count"
   ]
  },
  {
   "cell_type": "code",
   "execution_count": 124,
   "metadata": {},
   "outputs": [
    {
     "data": {
      "image/png": "[encoded data removed]",
      "text/plain": [
       "<Figure size 500x400 with 1 Axes>"
      ]
     },
     "metadata": {},
     "output_type": "display_data"
    }
   ],
   "source": [
    "plt.figure(figsize=(5, 4))  \n",
    "plt.bar(df['condition'], df['count'], color=['green', 'blue', 'orange', 'red'])\n",
    "plt.xlabel('Condition')\n",
    "plt.ylabel('Count')\n",
    "plt.title('Condition count')\n",
    "plt.xticks(df['condition'])\n",
    "plt.show()"
   ]
  }
 ],
 "metadata": {
  "kernelspec": {
   "display_name": "venv",
   "language": "python",
   "name": "python3"
  },
  "language_info": {
   "codemirror_mode": {
    "name": "ipython",
    "version": 3
   },
   "file_extension": ".py",
   "mimetype": "text/x-python",
   "name": "python",
   "nbconvert_exporter": "python",
   "pygments_lexer": "ipython3",
   "version": "3.10.0"
  }
 },
 "nbformat": 4,
 "nbformat_minor": 2
}
